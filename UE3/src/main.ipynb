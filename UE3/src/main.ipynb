{
 "cells": [
  {
   "cell_type": "code",
   "execution_count": 1,
   "metadata": {},
   "outputs": [],
   "source": [
    "# Imports\n",
    "import matplotlib.pyplot as plt\n",
    "import numpy as np\n",
    "import seaborn as sns\n",
    "from numpy.random import randint\n",
    "from scipy.cluster.hierarchy import ward, fcluster"
   ]
  },
  {
   "cell_type": "markdown",
   "metadata": {},
   "source": [
    "## MetroMap Implementation\n",
    "\n",
    "### 1. Read computed SOM"
   ]
  },
  {
   "cell_type": "code",
   "execution_count": 2,
   "metadata": {
    "pycharm": {
     "name": "#%%\n"
    }
   },
   "outputs": [],
   "source": [
    "from SOMToolBoxParser import SOMToolBoxParser\n",
    "\n",
    "input_vectors = SOMToolBoxParser(\"datasets/chainlink/chainlink.vec\").read_weight_file()\n",
    "weight_vectors = SOMToolBoxParser(\"datasets/chainlink/chainlink_small.wgt.gz\").read_weight_file()"
   ]
  },
  {
   "cell_type": "markdown",
   "metadata": {},
   "source": [
    "### 2.a Component Planes\n",
    "\n",
    "For each unit, take the weight vector of the corresponding attribute"
   ]
  },
  {
   "cell_type": "code",
   "execution_count": 3,
   "metadata": {},
   "outputs": [
    {
     "data": {
      "text/plain": [
       "array([[[-9.88067744e-01, -9.06554274e-01, -9.48086143e-01, ...,\n",
       "         -6.60731600e-01, -5.13187663e-01, -4.49753301e-01],\n",
       "        [-4.19260764e-01, -3.24941405e-01, -2.37149372e-01, ...,\n",
       "          9.44323514e-02,  6.72223703e-02,  4.56587289e-02],\n",
       "        [-9.40169540e-01, -9.29182666e-01, -9.63767380e-01, ...,\n",
       "         -6.13400118e-01, -4.98529682e-01, -4.40056021e-01],\n",
       "        ...,\n",
       "        [ 1.78840761e-04, -3.55183452e-03, -2.56285017e-02, ...,\n",
       "          2.48889138e-02,  5.34319834e-02,  6.16743961e-02],\n",
       "        [ 2.49022345e-01,  3.16478029e-01,  4.42975512e-01, ...,\n",
       "         -7.15477430e-02, -6.10488531e-02, -4.44377143e-02],\n",
       "        [-4.12160088e-02,  2.80587481e-02, -4.32241645e-02, ...,\n",
       "          7.29521912e-02,  5.93679447e-02,  6.17028558e-02]],\n",
       "\n",
       "       [[ 1.44292870e+00,  1.37250339e+00,  1.32271505e+00, ...,\n",
       "          1.60897800e-01,  9.76336657e-02,  1.01358791e-01],\n",
       "        [ 4.75229704e-02, -9.02778024e-03,  8.20536158e-02, ...,\n",
       "         -1.02322376e+00, -1.01394619e+00, -9.78864169e-01],\n",
       "        [ 1.49443371e+00,  1.43111433e+00,  1.33190345e+00, ...,\n",
       "          2.55280086e-01,  1.91164152e-01,  1.39806699e-01],\n",
       "        ...,\n",
       "        [ 8.84784287e-01,  8.42541478e-01,  8.06309575e-01, ...,\n",
       "         -4.03792031e-01, -4.18782599e-01, -4.28810834e-01],\n",
       "        [ 1.99292681e+00,  1.99596313e+00,  1.99147779e+00, ...,\n",
       "          1.04320160e+00,  9.82149703e-01,  9.64851594e-01],\n",
       "        [ 8.94814739e-01,  9.03721708e-01,  8.42934672e-01, ...,\n",
       "         -3.16586318e-01, -3.67350505e-01, -3.64761489e-01]],\n",
       "\n",
       "       [[ 4.90531908e-02,  5.00055759e-02,  6.84526934e-02, ...,\n",
       "         -1.88677657e-02,  3.89591208e-03, -5.94661919e-02],\n",
       "        [-4.98670881e-02, -4.98996997e-02, -4.59232712e-02, ...,\n",
       "          3.87337262e-01,  3.06933304e-01,  2.61524367e-01],\n",
       "        [ 5.45612146e-02,  2.25052412e-02,  1.00801833e-03, ...,\n",
       "         -7.71816282e-03, -5.24284292e-02, -4.56197132e-02],\n",
       "        ...,\n",
       "        [-4.89996185e-01, -5.57358831e-01, -5.85157492e-01, ...,\n",
       "         -9.94270935e-01, -9.26902555e-01, -8.89655579e-01],\n",
       "        [-8.57152961e-02, -7.63802880e-02, -3.64222751e-02, ...,\n",
       "         -2.60266873e-01, -3.12557588e-01, -4.23646680e-01],\n",
       "        [-5.17053284e-01, -5.80937077e-01, -6.33903066e-01, ...,\n",
       "         -9.40849611e-01, -9.16116233e-01, -8.68263536e-01]]])"
      ]
     },
     "execution_count": 3,
     "metadata": {},
     "output_type": "execute_result"
    }
   ],
   "source": [
    "## TODO: figure out shape of the input weight matrix: attr,x,y or attr,y,x\n",
    "## TODO: last argument of .reshape\n",
    "\n",
    "component_planes = np.array([weight_vectors['arr'][:, i] for i in range(weight_vectors['vec_dim'])]).reshape(\n",
    "    weight_vectors['vec_dim'], weight_vectors['xdim'], weight_vectors['ydim'])\n",
    "component_planes"
   ]
  },
  {
   "cell_type": "markdown",
   "metadata": {},
   "source": [
    "### 2.b Discretization\n",
    "\n",
    "Input parameter `n`: number of bins"
   ]
  },
  {
   "cell_type": "code",
   "execution_count": 4,
   "metadata": {},
   "outputs": [
    {
     "data": {
      "text/plain": [
       "<AxesSubplot:>"
      ]
     },
     "execution_count": 4,
     "metadata": {},
     "output_type": "execute_result"
    },
    {
     "data": {
      "image/png": "[encoded data removed]",
      "text/plain": [
       "<Figure size 432x288 with 2 Axes>"
      ]
     },
     "metadata": {
      "needs_background": "light"
     },
     "output_type": "display_data"
    }
   ],
   "source": [
    "n = 10\n",
    "discretized_planes = []\n",
    "\n",
    "for component_plane in component_planes:\n",
    "    bins = np.linspace(component_plane.min(), component_plane.max(), n, False)\n",
    "    discretized_plane = np.digitize(component_plane, bins)\n",
    "    discretized_planes.append(discretized_plane)\n",
    "\n",
    "sns.heatmap(discretized_planes[0])"
   ]
  },
  {
   "cell_type": "markdown",
   "metadata": {},
   "source": [
    "### 3. Component Lines (Fi)\n",
    "\n",
    "Based on the algorith of NEU07_ijcnn, the following steps need to be performed:\n",
    "For each component, take a region (bins) and check which points fall within the interval of the region. Sum the values up, and divide the sum by the number of points in the region. The result is the gravity center of a component's region. Repeat these steps for all regions."
   ]
  },
  {
   "cell_type": "code",
   "execution_count": 5,
   "metadata": {},
   "outputs": [
    {
     "data": {
      "text/plain": [
       "array([[[ 3.66101695,  6.23728814],\n",
       "        [ 6.18181818,  9.03030303],\n",
       "        [ 9.25806452,  9.64516129],\n",
       "        [12.63636364,  3.57575758],\n",
       "        [19.09623431, 10.56903766],\n",
       "        [21.19211823, 11.09852217],\n",
       "        [25.73809524,  6.95238095],\n",
       "        [28.3877551 ,  5.67346939],\n",
       "        [28.73913043,  6.36956522],\n",
       "        [27.93846154, 13.46153846]],\n",
       "\n",
       "       [[11.16216216, 16.47297297],\n",
       "        [16.85454545, 13.27272727],\n",
       "        [20.17857143, 10.89285714],\n",
       "        [17.75630252,  7.97478992],\n",
       "        [19.83783784,  8.36936937],\n",
       "        [19.34042553, 11.55319149],\n",
       "        [20.70175439, 10.56140351],\n",
       "        [20.08510638,  8.14893617],\n",
       "        [22.48      ,  5.7       ],\n",
       "        [26.95      ,  2.5625    ]],\n",
       "\n",
       "       [[34.97014925, 12.79104478],\n",
       "        [31.05882353, 11.        ],\n",
       "        [28.9375    ,  9.21875   ],\n",
       "        [26.23333333, 16.06666667],\n",
       "        [20.86915888,  8.30373832],\n",
       "        [17.20253165,  8.06329114],\n",
       "        [10.82051282, 12.38461538],\n",
       "        [10.97560976, 12.2195122 ],\n",
       "        [ 9.61363636, 12.25      ],\n",
       "        [10.48387097,  6.14516129]]])"
      ]
     },
     "execution_count": 5,
     "metadata": {},
     "output_type": "execute_result"
    }
   ],
   "source": [
    "def calculate_region_center(points):\n",
    "    return sum(points) / len(points)\n",
    "\n",
    "\n",
    "def get_points_inside_region(region, component):\n",
    "    return np.argwhere(component == region)\n",
    "\n",
    "\n",
    "def get_region_centers(component):\n",
    "    region_centers = []\n",
    "    for region_index in range(n):\n",
    "        region = region_index + 1\n",
    "        included_points = get_points_inside_region(region, component)\n",
    "        region_center = calculate_region_center(included_points)\n",
    "        region_centers.append(region_center)\n",
    "    return region_centers\n",
    "\n",
    "\n",
    "def get_component_lines(binned_planes):\n",
    "    \"\"\" returns e.g., [[[1,2], [3,4], [3,5]], [...], [...]] -> component plane 0 has line with points: (1,2), (3,4) (3,5)\"\"\"\n",
    "    lines = []\n",
    "    for component in binned_planes:\n",
    "        region_centers = get_region_centers(component)\n",
    "        lines.append(region_centers)\n",
    "    return lines\n",
    "\n",
    "\n",
    "def get_high_low_lines(lines):\n",
    "    \"\"\" returns e.g., [[[3, 8], [4,8]], [...]] -> component plane 0 (line 0) has min at (3,8), max at (4,8) \"\"\"\n",
    "    lines_min_max = []\n",
    "    for line in lines:\n",
    "        start = line[0]\n",
    "        end = line[-1]\n",
    "        lines_min_max.append([start, end])\n",
    "    return lines_min_max\n",
    "\n",
    "\n",
    "lines = np.array(get_component_lines(discretized_planes))\n",
    "lines_min_max = np.array(get_high_low_lines(lines))\n",
    "\n",
    "lines"
   ]
  },
  {
   "cell_type": "markdown",
   "metadata": {
    "pycharm": {
     "name": "#%% md\n"
    }
   },
   "source": [
    "## Metro Map Visualization\n",
    "\n",
    "### 4. Visualization\n",
    "\n",
    "Connect the centers with lines"
   ]
  },
  {
   "cell_type": "code",
   "execution_count": 6,
   "metadata": {},
   "outputs": [
    {
     "name": "stdout",
     "output_type": "stream",
     "text": [
      "[[[ 3.66101695  6.23728814]\n",
      "  [ 6.18181818  9.03030303]\n",
      "  [ 9.25806452  9.64516129]\n",
      "  [12.63636364  3.57575758]\n",
      "  [19.09623431 10.56903766]\n",
      "  [21.19211823 11.09852217]\n",
      "  [25.73809524  6.95238095]\n",
      "  [28.3877551   5.67346939]\n",
      "  [28.73913043  6.36956522]\n",
      "  [27.93846154 13.46153846]]\n",
      "\n",
      " [[11.16216216 16.47297297]\n",
      "  [16.85454545 13.27272727]\n",
      "  [20.17857143 10.89285714]\n",
      "  [17.75630252  7.97478992]\n",
      "  [19.83783784  8.36936937]\n",
      "  [19.34042553 11.55319149]\n",
      "  [20.70175439 10.56140351]\n",
      "  [20.08510638  8.14893617]\n",
      "  [22.48        5.7       ]\n",
      "  [26.95        2.5625    ]]\n",
      "\n",
      " [[34.97014925 12.79104478]\n",
      "  [31.05882353 11.        ]\n",
      "  [28.9375      9.21875   ]\n",
      "  [26.23333333 16.06666667]\n",
      "  [20.86915888  8.30373832]\n",
      "  [17.20253165  8.06329114]\n",
      "  [10.82051282 12.38461538]\n",
      "  [10.97560976 12.2195122 ]\n",
      "  [ 9.61363636 12.25      ]\n",
      "  [10.48387097  6.14516129]]]\n"
     ]
    },
    {
     "data": {
      "image/png": "[encoded data removed]",
      "text/plain": [
       "<Figure size 432x288 with 1 Axes>"
      ]
     },
     "metadata": {
      "needs_background": "light"
     },
     "output_type": "display_data"
    }
   ],
   "source": [
    "print(lines)\n",
    "\n",
    "for line in lines:\n",
    "    x_coordinates = [point[0] for point in line]\n",
    "    y_coordinates = [point[1] for point in line]\n",
    "    plt.plot(x_coordinates, y_coordinates, '-o')\n",
    "\n",
    "plt.show()"
   ]
  },
  {
   "cell_type": "markdown",
   "metadata": {},
   "source": [
    "### 5. Aggregation (FL)\n",
    "\n",
    "distance-based\n",
    "\n",
    "Take pair wise lines,\n",
    "    calculate distance between two lines:\n",
    "        same_idx_dist <- sum of distances between pairs of centers of same indices\n",
    "        inv_idx_dist <- sum of distances between paris of centers of inverted indices\n",
    "        dist <- min(same_idx_dist, inv_idx_dist)\n",
    "\n",
    "use Ward's clustering (https://docs.scipy.org/doc/scipy/reference/generated/scipy.cluster.hierarchy.ward.html)\n",
    "\n"
   ]
  },
  {
   "cell_type": "code",
   "execution_count": 8,
   "metadata": {},
   "outputs": [
    {
     "name": "stdout",
     "output_type": "stream",
     "text": [
      "[[ 0.          2.         54.53015226  2.        ]\n",
      " [ 1.          3.         86.53725685  3.        ]]\n",
      "[array([[[ 3.66101695,  6.23728814],\n",
      "        [ 6.18181818,  9.03030303],\n",
      "        [ 9.25806452,  9.64516129],\n",
      "        [12.63636364,  3.57575758],\n",
      "        [19.09623431, 10.56903766],\n",
      "        [21.19211823, 11.09852217],\n",
      "        [25.73809524,  6.95238095],\n",
      "        [28.3877551 ,  5.67346939],\n",
      "        [28.73913043,  6.36956522],\n",
      "        [27.93846154, 13.46153846]]]), array([[ 3.66101695,  6.23728814],\n",
      "       [ 6.18181818,  9.03030303],\n",
      "       [ 9.25806452,  9.64516129],\n",
      "       [12.63636364,  3.57575758],\n",
      "       [19.09623431, 10.56903766],\n",
      "       [21.19211823, 11.09852217],\n",
      "       [25.73809524,  6.95238095],\n",
      "       [28.3877551 ,  5.67346939],\n",
      "       [28.73913043,  6.36956522],\n",
      "       [27.93846154, 13.46153846]]), array([[[34.97014925, 12.79104478],\n",
      "        [31.05882353, 11.        ],\n",
      "        [28.9375    ,  9.21875   ],\n",
      "        [26.23333333, 16.06666667],\n",
      "        [20.86915888,  8.30373832],\n",
      "        [17.20253165,  8.06329114],\n",
      "        [10.82051282, 12.38461538],\n",
      "        [10.97560976, 12.2195122 ],\n",
      "        [ 9.61363636, 12.25      ],\n",
      "        [10.48387097,  6.14516129]]]), array([[34.97014925, 12.79104478],\n",
      "       [31.05882353, 11.        ],\n",
      "       [28.9375    ,  9.21875   ],\n",
      "       [26.23333333, 16.06666667],\n",
      "       [20.86915888,  8.30373832],\n",
      "       [17.20253165,  8.06329114],\n",
      "       [10.82051282, 12.38461538],\n",
      "       [10.97560976, 12.2195122 ],\n",
      "       [ 9.61363636, 12.25      ],\n",
      "       [10.48387097,  6.14516129]])]\n"
     ]
    },
    {
     "data": {
      "image/png": "[encoded data removed]",
      "text/plain": [
       "<Figure size 432x288 with 1 Axes>"
      ]
     },
     "metadata": {
      "needs_background": "light"
     },
     "output_type": "display_data"
    }
   ],
   "source": [
    "def distance(l1,l2):\n",
    "    \"l1 and l2 need to be 2 dimensional numpy arrays\"\n",
    "    distance_normal = 0\n",
    "    distance_reversed = 0\n",
    "    for i in range(len(l1)):\n",
    "        distance_normal += np.linalg.norm(l1[i] - l2[i])\n",
    "        distance_reversed += np.linalg.norm(l1[i] - l2[-(i+1)])\n",
    "    l = [distance_normal, distance_reversed]\n",
    "    return min(l),np.where(l == min(l))[0][0] # [0][0] to get an int instead of an array\n",
    "\n",
    "\n",
    "def create_distance_matrix(lines):\n",
    "    # create mattrix that shows if the pairwise distance is revesed or not\n",
    "    n_lines = lines.shape[0]\n",
    "    matrix = np.empty((n_lines,n_lines))\n",
    "    normal_or_not = np.empty((n_lines,n_lines))\n",
    "    for i in range(n_lines):\n",
    "        for j in range(n_lines):\n",
    "            if i == j:\n",
    "                matrix[i,j] = np.inf\n",
    "                normal_or_not[i,j] = -1\n",
    "            else:\n",
    "                matrix[i,j] = distance(lines[i],lines[j])[0]\n",
    "                normal_or_not[i,j] = distance(lines[i],lines[j])[1]\n",
    "\n",
    "    return np.triu(matrix,1), normal_or_not\n",
    "\n",
    "\n",
    "def assign_clusters(d_matrix,threshold,print_Z=False):\n",
    "    Z = ward(d_matrix[d_matrix > 0])\n",
    "    # see link for explanation of Z\n",
    "    # https://docs.scipy.org/doc/scipy/reference/reference/generated/scipy.cluster.hierarchy.fcluster.html#scipy.cluster.hierarchy.fcluster\n",
    "    if print_Z:\n",
    "        print(Z)\n",
    "    assigned_clusters = fcluster(Z, threshold, criterion='distance')\n",
    "    return assigned_clusters\n",
    "\n",
    "def average_lines(lines,clusters,r_matrix):\n",
    "    ''' averages x,y values of all lines per cluster\n",
    "    '''\n",
    "    final_lines = []\n",
    "    for i in range(max(clusters)-1): #iterate trough clusters\n",
    "        cluster_lines = np.where(clusters == i + 1)\n",
    "        if len(cluster_lines) == 1:\n",
    "            final_lines.append(lines[cluster_lines[0]])\n",
    "\n",
    "\n",
    "        first_ind = cluster_lines[0][0]\n",
    "        averaged_line = lines[first_ind]\n",
    "        for compare_ind in cluster_lines[0]:   #itearate trough lines\n",
    "            if r_matrix[first_ind, compare_ind] == 0:  # normal distance\n",
    "                averaged_line = averaged_line + lines[compare_ind]\n",
    "\n",
    "            elif r_matrix[first_ind, compare_ind] == 1:  # reverse distance\n",
    "                averaged_line = averaged_line + np.flip(lines[compare_ind])\n",
    "        averaged_line = averaged_line / len(cluster_lines)\n",
    "        final_lines.append(averaged_line)\n",
    "    return final_lines\n",
    "\n",
    "\n",
    "def aggregate(lines,threshold,print_z=False):\n",
    "    d_matrix, r_matrix = create_distance_matrix(lines)\n",
    "    clusters = assign_clusters(d_matrix, threshold,print_Z=print_z)\n",
    "    new_lines = average_lines(lines, clusters, r_matrix)\n",
    "    return new_lines\n",
    "\n",
    "\n",
    "agg_lines = aggregate(lines,22,True)\n",
    "for line in agg_lines:\n",
    "    x_coordinates = [point[0] for point in line]\n",
    "    y_coordinates = [point[1] for point in line]\n",
    "    plt.plot(x_coordinates, y_coordinates, '-o')\n",
    "\n",
    "#print(agg_lines)"
   ]
  },
  {
   "cell_type": "markdown",
   "metadata": {},
   "source": [
    "### 6. Selection\n",
    "\n",
    "See Algorithm 1 (NEU07_wsom paper)\n",
    "select only components with a small amount of regions per bin\n"
   ]
  },
  {
   "cell_type": "code",
   "execution_count": null,
   "metadata": {},
   "outputs": [],
   "source": []
  },
  {
   "cell_type": "markdown",
   "metadata": {},
   "source": [
    "\n",
    "### 7. Snapping\n",
    "\n",
    "See Algorithm 1 (https://github.com/yozoon/SOM-MetroMap/blob/main/implementation_report.pdf)\n",
    "\n",
    "See implementation of template method `_find_snapped_line`\n",
    "\n"
   ]
  },
  {
   "cell_type": "code",
   "execution_count": null,
   "metadata": {},
   "outputs": [],
   "source": []
  },
  {
   "cell_type": "markdown",
   "metadata": {},
   "source": [
    "## References"
   ]
  }
 ],
 "metadata": {
  "kernelspec": {
   "display_name": "Python 3",
   "language": "python",
   "name": "python3"
  },
  "language_info": {
   "codemirror_mode": {
    "name": "ipython",
    "version": 3
   },
   "file_extension": ".py",
   "mimetype": "text/x-python",
   "name": "python",
   "nbconvert_exporter": "python",
   "pygments_lexer": "ipython3",
   "version": "3.8.8"
  }
 },
 "nbformat": 4,
 "nbformat_minor": 1
}
