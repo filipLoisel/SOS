{
 "cells": [
  {
   "cell_type": "code",
   "execution_count": null,
   "metadata": {
    "collapsed": true
   },
   "outputs": [],
   "source": [
    "# Imports"
   ]
  },
  {
   "cell_type": "code",
   "execution_count": null,
   "outputs": [],
   "source": [
    "# Parse existing SOM\n",
    "from SOMToolBoxParser import SOMToolBoxParser\n",
    "input_vectors = SOMToolBoxParser(\"datasets/iris/iris.vec\").read_weight_file()\n",
    "weight_vectors = SOMToolBoxParser(\"datasets/iris/iris.wgt.gz\").read_weight_file()"
   ],
   "metadata": {
    "collapsed": false,
    "pycharm": {
     "name": "#%%\n"
    }
   }
  },
  {
   "cell_type": "markdown",
   "source": [
    "# Metro Map Implementation\n",
    "\n",
    "## Pseudocode\n",
    "\n",
    "### 1. Read calculated SOM\n",
    "\n",
    "Done, see parse existing SOM\n",
    "\n",
    "output: dict\n",
    "\n",
    "### 2.a Component Planes (M)\n",
    "\n",
    "For each unit, take the weight vector of the corresponding attribute\n",
    "\n",
    "output: 2d matrix\n",
    "output: replace weight_vectors (reshape)\n",
    "```\n",
    "for each component:\n",
    "[\n",
    "    []\n",
    "    []\n",
    "    []\n",
    "]\n",
    "```\n",
    "\n",
    "### 2.b Discretization (M)\n",
    "\n",
    "Input parameter `n`: number of bins\n",
    "\n",
    "Generate discretized SOM\n",
    "\n",
    "output\n",
    "for each component:\n",
    "represent to which bin the unit belongs\n",
    "\n",
    "### 3. Component Lines (Fi)\n",
    "\n",
    "For each bin, calculate the center of gravity\n",
    "Save min and max of centers (low, high)\n",
    "\n",
    "### 4. Visualization (Fi)\n",
    "\n",
    "Connect the centers with lines\n",
    "\n",
    "### 5. Aggregation (FL)\n",
    "\n",
    "distance-based\n",
    "\n",
    "Take pair wise lines,\n",
    "    calculate distance between two lines:\n",
    "        same_idx_dist <- sum of distances between pairs of centers of same indices\n",
    "        inv_idx_dist <- sum of distances between paris of centers of inverted indices\n",
    "        dist <- min(same_idx_dist, inv_idx_dist)\n",
    "\n",
    "use Ward's clustering (https://docs.scipy.org/doc/scipy/reference/generated/scipy.cluster.hierarchy.ward.html)\n",
    "\n",
    "### 6. Selection\n",
    "\n",
    "See Algorithm 1 (NEU07_wsom paper)\n",
    "select only components with a small amount of regions per bin\n",
    "\n",
    "### 7. Snapping\n",
    "\n",
    "See Algorithm 1 (https://github.com/yozoon/SOM-MetroMap/blob/main/implementation_report.pdf)\n",
    "\n",
    "See implementation of template method `_find_snapped_line`\n",
    "\n",
    "## References\n",
    "\n"
   ],
   "metadata": {
    "collapsed": false,
    "pycharm": {
     "name": "#%% md\n"
    }
   }
  },
  {
   "cell_type": "code",
   "execution_count": null,
   "outputs": [],
   "source": [
    "# Metro Map Implementation"
   ],
   "metadata": {
    "collapsed": false,
    "pycharm": {
     "name": "#%%\n"
    }
   }
  },
  {
   "cell_type": "code",
   "execution_count": null,
   "outputs": [],
   "source": [
    "# Metro Map Visualization"
   ],
   "metadata": {
    "collapsed": false,
    "pycharm": {
     "name": "#%%\n"
    }
   }
  }
 ],
 "metadata": {
  "kernelspec": {
   "display_name": "Python 3",
   "language": "python",
   "name": "python3"
  },
  "language_info": {
   "codemirror_mode": {
    "name": "ipython",
    "version": 2
   },
   "file_extension": ".py",
   "mimetype": "text/x-python",
   "name": "python",
   "nbconvert_exporter": "python",
   "pygments_lexer": "ipython2",
   "version": "2.7.6"
  }
 },
 "nbformat": 4,
 "nbformat_minor": 0
}