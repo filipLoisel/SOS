{
 "cells": [
  {
   "cell_type": "code",
   "execution_count": 1,
   "metadata": {},
   "outputs": [],
   "source": [
    "# Imports\n",
    "import matplotlib.colors as mcolors\n",
    "import matplotlib.pyplot as plt\n",
    "import numpy as np\n",
    "import seaborn as sns\n",
    "from scipy.cluster.hierarchy import ward, fcluster\n",
    "from scipy.spatial import distance_matrix, distance\n"
   ]
  },
  {
   "cell_type": "markdown",
   "metadata": {},
   "source": [
    "## MetroMap Implementation\n",
    "\n",
    "### 1. Read computed SOM"
   ]
  },
  {
   "cell_type": "code",
   "execution_count": 2,
   "metadata": {
    "pycharm": {
     "name": "#%%\n"
    }
   },
   "outputs": [
    {
     "data": {
      "text/plain": [
       "{'xdim': 40,\n",
       " 'ydim': 20,\n",
       " 'vec_dim': 3,\n",
       " 'arr': array([[-0.98806774,  1.4429287 ,  0.04905319],\n",
       "        [-0.90655427,  1.37250339,  0.05000558],\n",
       "        [-0.94808614,  1.32271505,  0.06845269],\n",
       "        ...,\n",
       "        [ 0.07295219, -0.31658632, -0.94084961],\n",
       "        [ 0.05936794, -0.3673505 , -0.91611623],\n",
       "        [ 0.06170286, -0.36476149, -0.86826354]])}"
      ]
     },
     "execution_count": 2,
     "metadata": {},
     "output_type": "execute_result"
    }
   ],
   "source": [
    "from SOMToolBoxParser import SOMToolBoxParser\n",
    "\n",
    "input_vectors = SOMToolBoxParser(\"datasets/chainlink/chainlink.vec\").read_weight_file()\n",
    "weight_vectors = SOMToolBoxParser(\"datasets/chainlink/chainlink_small.wgt.gz\").read_weight_file()\n",
    "\n",
    "weight_vectors"
   ]
  },
  {
   "cell_type": "markdown",
   "metadata": {},
   "source": [
    "### 2.a Component Planes\n",
    "\n",
    "For each unit, take the weight vector of the corresponding attribute"
   ]
  },
  {
   "cell_type": "code",
   "execution_count": 3,
   "metadata": {},
   "outputs": [
    {
     "data": {
      "text/plain": [
       "array([[[-9.88067744e-01, -9.06554274e-01, -9.48086143e-01, ...,\n",
       "          9.44323514e-02,  6.72223703e-02,  4.56587289e-02],\n",
       "        [-9.40169540e-01, -9.29182666e-01, -9.63767380e-01, ...,\n",
       "          2.82576792e-02,  3.62078562e-02,  6.14226926e-02],\n",
       "        [-8.65216373e-01, -9.15055701e-01, -9.47649886e-01, ...,\n",
       "         -2.17240157e-02, -4.00792549e-04,  7.95023917e-02],\n",
       "        ...,\n",
       "        [ 1.44067765e-01,  1.90573959e-01,  2.48811623e-01, ...,\n",
       "         -1.08237568e-02,  4.48033565e-02,  7.30991842e-02],\n",
       "        [ 2.02268936e-01,  2.64003682e-01,  3.77331802e-01, ...,\n",
       "          2.48889138e-02,  5.34319834e-02,  6.16743961e-02],\n",
       "        [ 2.49022345e-01,  3.16478029e-01,  4.42975512e-01, ...,\n",
       "          7.29521912e-02,  5.93679447e-02,  6.17028558e-02]],\n",
       "\n",
       "       [[ 1.44292870e+00,  1.37250339e+00,  1.32271505e+00, ...,\n",
       "         -1.02322376e+00, -1.01394619e+00, -9.78864169e-01],\n",
       "        [ 1.49443371e+00,  1.43111433e+00,  1.33190345e+00, ...,\n",
       "         -9.59117822e-01, -9.93226126e-01, -9.46858539e-01],\n",
       "        [ 1.52795765e+00,  1.48449216e+00,  1.38702944e+00, ...,\n",
       "         -9.73476387e-01, -1.03934516e+00, -1.01907147e+00],\n",
       "        ...,\n",
       "        [ 2.05080269e+00,  2.04353537e+00,  2.00753314e+00, ...,\n",
       "         -4.23349109e-01, -4.50860536e-01, -5.04625471e-01],\n",
       "        [ 2.04219637e+00,  2.02965119e+00,  2.03425035e+00, ...,\n",
       "         -4.03792031e-01, -4.18782599e-01, -4.28810834e-01],\n",
       "        [ 1.99292681e+00,  1.99596313e+00,  1.99147779e+00, ...,\n",
       "         -3.16586318e-01, -3.67350505e-01, -3.64761489e-01]],\n",
       "\n",
       "       [[ 4.90531908e-02,  5.00055759e-02,  6.84526934e-02, ...,\n",
       "          3.87337262e-01,  3.06933304e-01,  2.61524367e-01],\n",
       "        [ 5.45612146e-02,  2.25052412e-02,  1.00801833e-03, ...,\n",
       "          3.23018541e-01,  2.50073211e-01,  1.92272157e-01],\n",
       "        [ 3.29504112e-02, -3.04038162e-02, -4.20846352e-02, ...,\n",
       "          2.34453686e-01,  1.80607059e-01,  1.45417369e-01],\n",
       "        ...,\n",
       "        [ 6.75184821e-06,  5.49042526e-03,  4.09974021e-04, ...,\n",
       "         -9.73642626e-01, -9.20679296e-01, -8.68492169e-01],\n",
       "        [-3.81147253e-02, -2.64672090e-02,  1.96465983e-02, ...,\n",
       "         -9.94270935e-01, -9.26902555e-01, -8.89655579e-01],\n",
       "        [-8.57152961e-02, -7.63802880e-02, -3.64222751e-02, ...,\n",
       "         -9.40849611e-01, -9.16116233e-01, -8.68263536e-01]]])"
      ]
     },
     "execution_count": 3,
     "metadata": {},
     "output_type": "execute_result"
    }
   ],
   "source": [
    "def make_component_planes(vectors):\n",
    "\n",
    "    return np.array([vectors['arr'][:, i] for i in range(vectors['vec_dim'])]).reshape((\n",
    "        vectors['vec_dim'], vectors['ydim'], vectors['xdim']))\n",
    "\n",
    "make_component_planes(weight_vectors)"
   ]
  },
  {
   "cell_type": "markdown",
   "metadata": {},
   "source": [
    "### 2.b Discretization\n",
    "\n",
    "Input parameter `n`: number of bins"
   ]
  },
  {
   "cell_type": "code",
   "execution_count": 4,
   "metadata": {},
   "outputs": [
    {
     "data": {
      "text/plain": [
       "<AxesSubplot:>"
      ]
     },
     "execution_count": 4,
     "metadata": {},
     "output_type": "execute_result"
    },
    {
     "data": {
      "image/png": "[encoded data removed]",
      "text/plain": [
       "<Figure size 432x288 with 2 Axes>"
      ]
     },
     "metadata": {
      "needs_background": "light"
     },
     "output_type": "display_data"
    }
   ],
   "source": [
    "def discretize_planes(vectors ,n = 10):\n",
    "    \n",
    "    component_planes = make_component_planes(vectors)\n",
    "\n",
    "    discretized_planes = []\n",
    "\n",
    "    for component_plane in component_planes:\n",
    "        bins = np.linspace(component_plane.min(), component_plane.max(), n, False)\n",
    "        discretized_plane = np.digitize(component_plane, bins)\n",
    "        discretized_planes.append(discretized_plane)\n",
    "        \n",
    "    return discretized_planes\n",
    "\n",
    "sns.heatmap(discretize_planes(weight_vectors ,n = 10)[0])"
   ]
  },
  {
   "cell_type": "markdown",
   "metadata": {},
   "source": [
    "### 3. Component Lines (Fi)\n",
    "\n",
    "Based on the algorith of NEU07_ijcnn, the following steps need to be performed:\n",
    "For each component, take a region (bins) and check which points fall within the interval of the region. Sum the values up, and divide the sum by the number of points in the region. The result is the gravity center of a component's region. Repeat these steps for all regions."
   ]
  },
  {
   "cell_type": "code",
   "execution_count": 5,
   "metadata": {},
   "outputs": [
    {
     "data": {
      "text/plain": [
       "array([[[ 1.83050847,  6.23728814],\n",
       "        [ 3.09090909,  9.03030303],\n",
       "        [ 4.61290323, 10.29032258],\n",
       "        [ 6.15151515, 10.24242424],\n",
       "        [ 9.17573222, 25.46443515],\n",
       "        [10.25123153, 24.89162562],\n",
       "        [12.57142857, 18.85714286],\n",
       "        [13.95918367, 15.06122449],\n",
       "        [14.15217391, 15.06521739],\n",
       "        [13.95384615, 14.07692308]],\n",
       "\n",
       "       [[ 5.08108108, 36.47297297],\n",
       "        [ 7.92727273, 33.27272727],\n",
       "        [ 9.58928571, 30.89285714],\n",
       "        [ 8.40336134, 26.96638655],\n",
       "        [ 9.59459459, 21.34234234],\n",
       "        [ 9.54255319, 16.65957447],\n",
       "        [10.3245614 , 11.61403509],\n",
       "        [10.04255319,  8.14893617],\n",
       "        [11.24      ,  5.7       ],\n",
       "        [13.475     ,  2.5625    ]],\n",
       "\n",
       "       [[16.98507463, 32.79104478],\n",
       "        [15.02941176, 31.        ],\n",
       "        [13.96875   , 29.21875   ],\n",
       "        [12.83333333, 27.4       ],\n",
       "        [10.27102804, 14.84579439],\n",
       "        [ 8.47679325, 13.04219409],\n",
       "        [ 5.17948718, 21.61538462],\n",
       "        [ 5.2195122 , 22.95121951],\n",
       "        [ 4.52272727, 23.61363636],\n",
       "        [ 4.79032258, 24.20967742]]])"
      ]
     },
     "execution_count": 5,
     "metadata": {},
     "output_type": "execute_result"
    }
   ],
   "source": [
    "\n",
    "\n",
    "def calculate_region_center(points):\n",
    "    return sum(points) / len(points)\n",
    "\n",
    "\n",
    "def get_points_inside_region(region, component):\n",
    "    return np.argwhere(component == region)\n",
    "\n",
    "\n",
    "def get_region_centers(component, n):\n",
    "    region_centers = []\n",
    "    for region_index in range(n):\n",
    "        region = region_index + 1\n",
    "        included_points = get_points_inside_region(region, component)\n",
    "        region_center = calculate_region_center(included_points)\n",
    "        region_centers.append(region_center)\n",
    "    return region_centers\n",
    "\n",
    "\n",
    "def get_component_lines(binned_planes, n):\n",
    "    lines = []\n",
    "    component_names = []\n",
    "    for i, component in enumerate(binned_planes):\n",
    "        region_centers = get_region_centers(component, n)\n",
    "        lines.append(region_centers)\n",
    "        component_names.append('Component ' + str(i))\n",
    "\n",
    "    return np.array(lines), np.array(component_names)\n",
    "\n",
    "\n",
    "\n",
    "lines, component_names = get_component_lines(discretize_planes(weight_vectors,n = 10), n = 10)\n",
    "\n",
    "lines"
   ]
  },
  {
   "cell_type": "markdown",
   "metadata": {
    "pycharm": {
     "name": "#%% md\n"
    }
   },
   "source": [
    "## Metro Map Visualization\n",
    "\n",
    "### 4. Visualization\n",
    "\n",
    "Connect the centers with lines"
   ]
  },
  {
   "cell_type": "markdown",
   "metadata": {},
   "source": [
    "### U - Matrix"
   ]
  },
  {
   "cell_type": "code",
   "execution_count": 6,
   "metadata": {},
   "outputs": [],
   "source": [
    "def umatrix(_m, _n, _weights):\n",
    "    um =np.zeros((_m *_n, 1))\n",
    "    neuron_locs = list()\n",
    "    for i in range(_m):\n",
    "        for j in range(_n):\n",
    "            neuron_locs.append(np.array([i, j]))\n",
    "    neuron_distmat = distance_matrix(neuron_locs,neuron_locs)\n",
    "\n",
    "    for i in range(_m * _n):\n",
    "        neighbor_idxs = neuron_distmat[i] <= 1\n",
    "        neighbor_weights = _weights[neighbor_idxs]\n",
    "        um[i] = distance_matrix(np.expand_dims(_weights[i], 0), neighbor_weights).mean()\n",
    "\n",
    "       \n",
    "    return um.reshape(_m,_n)"
   ]
  },
  {
   "cell_type": "code",
   "execution_count": 7,
   "metadata": {},
   "outputs": [
    {
     "data": {
      "text/plain": [
       "(20, 40)"
      ]
     },
     "execution_count": 7,
     "metadata": {},
     "output_type": "execute_result"
    },
    {
     "data": {
      "image/png": "[encoded data removed]",
      "text/plain": [
       "<Figure size 432x288 with 2 Axes>"
      ]
     },
     "metadata": {
      "needs_background": "light"
     },
     "output_type": "display_data"
    }
   ],
   "source": [
    "u_matrix = umatrix(weight_vectors['ydim'], weight_vectors['xdim'], weight_vectors['arr'])\n",
    "\n",
    "sns.heatmap(u_matrix, cmap=\"Blues\")\n",
    "\n",
    "u_matrix.shape"
   ]
  },
  {
   "cell_type": "code",
   "execution_count": 8,
   "metadata": {},
   "outputs": [
    {
     "data": {
      "image/png": "[encoded data removed]",
      "text/plain": [
       "<Figure size 720x360 with 1 Axes>"
      ]
     },
     "metadata": {},
     "output_type": "display_data"
    }
   ],
   "source": [
    "def visualize(lines, u_matrix, start_end = True, _vmin=0.15,_vmax=0.45, component_names = []):\n",
    "    colors = iter(mcolors.TABLEAU_COLORS)\n",
    "    \n",
    "   \n",
    "    \n",
    "    plt.figure(figsize=(10, 5))\n",
    "    sns.heatmap(u_matrix, cmap=\"Blues\", vmin = _vmin, vmax = _vmax, cbar=False, xticklabels = False, yticklabels = False)\n",
    "    for i, line in enumerate(lines):\n",
    "        color = next(colors)\n",
    "        #if color == 'tab:blue':\n",
    "            #color = next(colors)\n",
    "            \n",
    "        x_coordinates = [point[0] for point in line]\n",
    "        y_coordinates = [point[1] for point in line]\n",
    "        plt.plot(y_coordinates, x_coordinates, '-o', linewidth=4, markersize = 9,color=color, label=component_names[i])\n",
    "        \n",
    "        if start_end == True:\n",
    "            plt.plot(y_coordinates[0], x_coordinates[0], '-o', markersize = 15, color=color)\n",
    "            plt.plot(y_coordinates[-1], x_coordinates[-1], '-s', markersize = 15, color=color)\n",
    "\n",
    "    plt.show()\n",
    "names =['hey','ho','jo','bro','straight','from','so','ho','a','b','c']\n",
    "visualize(lines, u_matrix, component_names=names)"
   ]
  },
  {
   "cell_type": "markdown",
   "metadata": {},
   "source": [
    "### 5. Aggregation (FL)\n",
    "\n",
    "distance-based\n",
    "\n",
    "Take pair wise lines,\n",
    "    calculate distance between two lines:\n",
    "        same_idx_dist <- sum of distances between pairs of centers of same indices\n",
    "        inv_idx_dist <- sum of distances between paris of centers of inverted indices\n",
    "        dist <- min(same_idx_dist, inv_idx_dist)\n",
    "\n",
    "use Ward's clustering (https://docs.scipy.org/doc/scipy/reference/generated/scipy.cluster.hierarchy.ward.html)\n",
    "\n"
   ]
  },
  {
   "cell_type": "code",
   "execution_count": 9,
   "metadata": {},
   "outputs": [
    {
     "name": "stdout",
     "output_type": "stream",
     "text": [
      "[[  1.           2.         108.63113616   2.        ]\n",
      " [  0.           3.         130.51657031   3.        ]]\n",
      "['ho + jo', 'hey']\n",
      "[False, False]\n"
     ]
    },
    {
     "data": {
      "image/png": "[encoded data removed]",
      "text/plain": [
       "<Figure size 720x360 with 1 Axes>"
      ]
     },
     "metadata": {},
     "output_type": "display_data"
    }
   ],
   "source": [
    "\n",
    "def distance(l1, l2):\n",
    "    \"l1 and l2 need to be 2 dimensional numpy arrays\"\n",
    "    distance_normal = 0\n",
    "    distance_reversed = 0\n",
    "    for i in range(len(l1)):\n",
    "        distance_normal += np.linalg.norm(l1[i] - l2[i])\n",
    "        distance_reversed += np.linalg.norm(l1[i] - l2[-(i + 1)])\n",
    "    l = [distance_normal, distance_reversed]\n",
    "    return min(l), np.where(l == min(l))[0][0]  # [0][0] to get an int instead of an array\n",
    "\n",
    "\n",
    "def create_distance_matrix(lines):\n",
    "    # create mattrix that shows if the pairwise distance is revesed or not\n",
    "    n_lines = lines.shape[0]\n",
    "    matrix = np.empty((n_lines, n_lines))\n",
    "    normal_or_not = np.empty((n_lines, n_lines))\n",
    "    for i in range(n_lines):\n",
    "        for j in range(n_lines):\n",
    "            if i == j:\n",
    "                matrix[i, j] = np.inf\n",
    "                normal_or_not[i, j] = -1\n",
    "            else:\n",
    "                matrix[i, j] = distance(lines[i], lines[j])[0]\n",
    "                normal_or_not[i, j] = distance(lines[i], lines[j])[1]\n",
    "\n",
    "    return np.triu(matrix, 1), normal_or_not\n",
    "\n",
    "\n",
    "def assign_clusters(d_matrix, threshold, print_Z=False):\n",
    "    Z = ward(d_matrix[d_matrix > 0])\n",
    "    # see link for explanation of Z\n",
    "    # https://docs.scipy.org/doc/scipy/reference/reference/generated/scipy.cluster.hierarchy.fcluster.html#scipy.cluster.hierarchy.fcluster\n",
    "    if print_Z:\n",
    "        print(Z)\n",
    "    assigned_clusters = fcluster(Z, threshold, criterion='distance')\n",
    "    return assigned_clusters\n",
    "\n",
    "\n",
    "def average_lines(lines, clusters, r_matrix, names):\n",
    "    ''' averages x,y values of all lines per cluster\n",
    "    '''\n",
    "\n",
    "    reverse_list = []\n",
    "    final_lines = []\n",
    "    final_names = []\n",
    "    for i in range(max(clusters)):  # iterate trough clusters\n",
    "        reverse_used = False #indicates if the cluster contains a reversed line\n",
    "        cluster_lines = np.where(clusters == i + 1)\n",
    "        if len(cluster_lines[0]) == 1:\n",
    "            final_lines.append(lines[cluster_lines[0]][0].tolist())\n",
    "            final_names.append(names[cluster_lines[0][0]])\n",
    "            reverse_list.append(reverse_used)\n",
    "            continue\n",
    "\n",
    "        first_ind = cluster_lines[0][0]\n",
    "        name = names[first_ind]\n",
    "        averaged_line = lines[first_ind]\n",
    "        for compare_ind in cluster_lines[0]:  # itearate trough lines\n",
    "            if r_matrix[first_ind, compare_ind] == 0:  # normal distance\n",
    "                averaged_line = averaged_line + lines[compare_ind]\n",
    "                name += \" + \" + names[compare_ind]\n",
    "\n",
    "            elif r_matrix[first_ind, compare_ind] == 1:  # reverse distance\n",
    "                name += \" + \" + names[compare_ind]\n",
    "                reverse_used = True\n",
    "                averaged_line = averaged_line + np.flip(lines[compare_ind], axis=0)\n",
    "        averaged_line = (averaged_line / len(cluster_lines[0])).tolist()\n",
    "        reverse_list.append(reverse_used)\n",
    "        final_lines.append(averaged_line)\n",
    "        final_names.append(name)\n",
    "\n",
    "    return final_lines, final_names, reverse_list\n",
    "\n",
    "\n",
    "def aggregate(lines, threshold, names, print_Z=False):\n",
    "    d_matrix, r_matrix = create_distance_matrix(lines)\n",
    "    clusters = assign_clusters(d_matrix, threshold, print_Z)\n",
    "    new_lines, names, reverse_list = average_lines(lines, clusters, r_matrix, names)\n",
    "    new_lines = np.array(new_lines)\n",
    "    return new_lines, names, reverse_list\n",
    "\n",
    "\n",
    "\n",
    "\n",
    "\n",
    "\n",
    "\n",
    "agg_lines, agg_names, reverse_list = aggregate(lines,110,names,True)\n",
    "print(agg_names)\n",
    "print(reverse_list)\n",
    "visualize(agg_lines, u_matrix, component_names=names)"
   ]
  },
  {
   "cell_type": "markdown",
   "metadata": {},
   "source": [
    "### 6. Selection\n",
    "\n",
    "See Algorithm 1 (NEU07_wsom paper)\n",
    "select only components with a small amount of regions per bin\n"
   ]
  },
  {
   "cell_type": "code",
   "execution_count": 10,
   "metadata": {},
   "outputs": [],
   "source": [
    "def select_components(d_planes, component_names,n = 5):\n",
    "\n",
    "    assert n <= len(d_planes), \"Selection size must be smaller or equal to number of components!\"\n",
    "\n",
    "    def valid_neighbor(row, col):\n",
    "\n",
    "            #getting dimensions\n",
    "            rows = len(d_planes[0])\n",
    "            cols = len(d_planes[0][0])\n",
    "\n",
    "            return 0 <= row < rows and 0 <= col < cols\n",
    "\n",
    "    def get_neighbors(row, col):\n",
    "            for drow, dcol in [(0, 1), (0, -1), (1, 0), (-1, 0)]: #, (-1, 1), (-1, -1), (1, -1), (1, 1)]:\n",
    "                nrow, ncol = row+drow, col+dcol\n",
    "                if valid_neighbor(nrow, ncol):\n",
    "                    yield nrow, ncol\n",
    "\n",
    "    def get_regions_per_component(d_planes):\n",
    "\n",
    "        #getting dimensions\n",
    "        rows = len(d_planes[0])\n",
    "        cols = len(d_planes[0][0])\n",
    "\n",
    "        regions_per_component = []\n",
    "\n",
    "        for component_plane in d_planes:\n",
    "            n = component_plane.max()\n",
    "\n",
    "\n",
    "\n",
    "            number_of_regions = 0\n",
    "            for bin_value in range(1,n+1):\n",
    "                regions = {}\n",
    "\n",
    "                assigned_units = component_plane*0\n",
    "                current_region_number = 1\n",
    "\n",
    "                for row in range(len(component_plane)):\n",
    "                    for col in range(len(component_plane[row])):\n",
    "                        #check if unit is already assigned\n",
    "                        if assigned_units[row][col] == 0 and component_plane[row][col]==bin_value:\n",
    "\n",
    "\n",
    "                            assigned_neighbours = 0\n",
    "\n",
    "\n",
    "                            for nrow, ncol in get_neighbors(row,col):\n",
    "\n",
    "                                previous_assignment = assigned_units[row][col]\n",
    "\n",
    "\n",
    "\n",
    "                                if assigned_units[nrow][ncol] != 0 and component_plane[row][col] == component_plane[nrow][ncol]:\n",
    "\n",
    "\n",
    "                                    #add to neighbors region\n",
    "\n",
    "                                    regions[assigned_units[nrow][ncol]].append((row,col))\n",
    "                                    assigned_units[row][col] = assigned_units[nrow][ncol]\n",
    "\n",
    "                                    assigned_neighbours += 1\n",
    "\n",
    "\n",
    "                                    if assigned_neighbours > 1 and assigned_units[nrow][ncol] != previous_assignment:\n",
    "\n",
    "\n",
    "                                        #merge\n",
    "                                        regions[assigned_units[nrow][ncol]] = regions[assigned_units[nrow][ncol]] + regions[previous_assignment]\n",
    "\n",
    "                                        #update assignment in assigned units \n",
    "                                        for tup in regions[previous_assignment]:\n",
    "                                            r = tup[0]\n",
    "                                            c = tup[1]\n",
    "                                            assigned_units[r][c] = assigned_units[nrow][ncol]\n",
    "\n",
    "\n",
    "                                        del regions[previous_assignment]\n",
    "\n",
    "\n",
    "\n",
    "\n",
    "\n",
    "                            if assigned_neighbours == 0:\n",
    "\n",
    "\n",
    "\n",
    "                                regions[current_region_number] = [(row,col)]\n",
    "                                assigned_units[row][col] = current_region_number\n",
    "                                current_region_number += 1\n",
    "\n",
    "                # add the region count for this bin to the total           \n",
    "                number_of_regions += len(regions)\n",
    "\n",
    "            # adding the total for each component to the list  \n",
    "            regions_per_component.append(number_of_regions)\n",
    "\n",
    "\n",
    "        return regions_per_component\n",
    "    output = []\n",
    "    output_names = []\n",
    "    region_count = get_regions_per_component(d_planes)\n",
    "\n",
    "    cut_off = sorted(region_count)[n-1]\n",
    "\n",
    "    removed = []\n",
    "\n",
    "    for i in range(len(region_count)):\n",
    "        if region_count[i] <= cut_off:\n",
    "            output.append(d_planes[i])\n",
    "            output_names.append(component_names[i])\n",
    "\n",
    "\n",
    "    return np.array(output)\n"
   ]
  },
  {
   "cell_type": "markdown",
   "metadata": {},
   "source": [
    "\n",
    "### 7. Snapping\n",
    "\n",
    "See Algorithm 1 (https://github.com/yozoon/SOM-MetroMap/blob/main/implementation_report.pdf)\n",
    "\n",
    "See implementation of template method `_find_snapped_line`\n",
    "\n"
   ]
  },
  {
   "cell_type": "code",
   "execution_count": 11,
   "metadata": {
    "scrolled": false
   },
   "outputs": [],
   "source": [
    "def snap_component_lines(component_lines, d_planes, step):\n",
    "\n",
    "    rows = len(d_planes[0])\n",
    "    cols = len(d_planes[0][0])\n",
    "\n",
    "\n",
    "    def valid_neighbor(row, col):\n",
    "        return 0 <= row < rows and 0 <= col < cols\n",
    "\n",
    "    def get_snapping_anchors(point, dist, step):\n",
    "        for di in range(0,dist,step):\n",
    "            for drow, dcol in [(0, 1 + di), (0, -1 - di), (1 + di, 0), (-1 - di, 0), (-1-di, 1+di), (-1-di, -1-di), (1+di, -1-di), (1+di, 1+di)]:\n",
    "                        nrow, ncol = point[0]+drow, point[1]+dcol\n",
    "                        if valid_neighbor(nrow,ncol):\n",
    "                            yield [nrow, ncol]\n",
    "\n",
    "\n",
    "    def snap_points(line, step):\n",
    "        line[0] = [round(line[0][0]), round(line[0][1])]\n",
    "        for i in range(len(line)-1):\n",
    "            dist = round(np.linalg.norm(line[i] - line[i+1]))+1\n",
    "            nearest_anchor = 0\n",
    "            nearest_anchor_dist = float('inf')\n",
    "            for anchor in get_snapping_anchors(line[i], dist, step):\n",
    "                distance_to_anchor = np.linalg.norm(line[i+1] - anchor)\n",
    "                if distance_to_anchor < nearest_anchor_dist:\n",
    "                    nearest_anchor_dist = distance_to_anchor\n",
    "                    nearest_anchor = anchor\n",
    "\n",
    "            line[i+1] = nearest_anchor\n",
    "\n",
    "        return line\n",
    "\n",
    "    snapped_lines = []\n",
    "\n",
    "    for c_line in component_lines:\n",
    "        snapped_lines.append(snap_points(c_line, step))\n",
    "\n",
    "    return np.array(snapped_lines)"
   ]
  },
  {
   "cell_type": "markdown",
   "metadata": {},
   "source": [
    "## Metro Map Tests"
   ]
  },
  {
   "cell_type": "code",
   "execution_count": 12,
   "metadata": {},
   "outputs": [],
   "source": [
    "chain_input = SOMToolBoxParser(\"datasets/chainlink/chainlink.vec\").read_weight_file()\n",
    "chain_weight = SOMToolBoxParser(\"datasets/chainlink/chainlink_small.wgt.gz\").read_weight_file()"
   ]
  },
  {
   "cell_type": "code",
   "execution_count": 13,
   "metadata": {},
   "outputs": [],
   "source": [
    "clusters_input = SOMToolBoxParser(\"datasets/10clusters/10clusters.vec\").read_weight_file()\n",
    "clusters_weight = SOMToolBoxParser(\"datasets/10clusters/10clusters_large.wgt.gz\").read_weight_file()"
   ]
  },
  {
   "cell_type": "code",
   "execution_count": 14,
   "metadata": {},
   "outputs": [
    {
     "ename": "IndexError",
     "evalue": "list index out of range",
     "output_type": "error",
     "traceback": [
      "\u001b[1;31m---------------------------------------------------------------------------\u001b[0m",
      "\u001b[1;31mIndexError\u001b[0m                                Traceback (most recent call last)",
      "\u001b[1;32m<ipython-input-14-5cfcd311a375>\u001b[0m in \u001b[0;36m<module>\u001b[1;34m\u001b[0m\n\u001b[0;32m      3\u001b[0m \u001b[1;33m\u001b[0m\u001b[0m\n\u001b[0;32m      4\u001b[0m \u001b[0mlines\u001b[0m \u001b[1;33m=\u001b[0m \u001b[0mget_component_lines\u001b[0m\u001b[1;33m(\u001b[0m\u001b[0mchain_planes\u001b[0m\u001b[1;33m,\u001b[0m \u001b[0mn\u001b[0m \u001b[1;33m=\u001b[0m \u001b[1;36m8\u001b[0m\u001b[1;33m)\u001b[0m\u001b[1;33m\u001b[0m\u001b[1;33m\u001b[0m\u001b[0m\n\u001b[1;32m----> 5\u001b[1;33m \u001b[0mvisualize\u001b[0m\u001b[1;33m(\u001b[0m\u001b[0mlines\u001b[0m\u001b[1;33m,\u001b[0m \u001b[0mu_matrix\u001b[0m\u001b[1;33m)\u001b[0m\u001b[1;33m\u001b[0m\u001b[1;33m\u001b[0m\u001b[0m\n\u001b[0m\u001b[0;32m      6\u001b[0m \u001b[0msnapped_lines\u001b[0m \u001b[1;33m=\u001b[0m \u001b[0msnap_component_lines\u001b[0m\u001b[1;33m(\u001b[0m\u001b[0mlines\u001b[0m\u001b[1;33m,\u001b[0m \u001b[0mchain_planes\u001b[0m\u001b[1;33m,\u001b[0m \u001b[1;36m8\u001b[0m\u001b[1;33m)\u001b[0m\u001b[1;33m\u001b[0m\u001b[1;33m\u001b[0m\u001b[0m\n\u001b[0;32m      7\u001b[0m \u001b[0mvisualize\u001b[0m\u001b[1;33m(\u001b[0m\u001b[0msnapped_lines\u001b[0m\u001b[1;33m,\u001b[0m \u001b[0mu_matrix\u001b[0m\u001b[1;33m)\u001b[0m\u001b[1;33m\u001b[0m\u001b[1;33m\u001b[0m\u001b[0m\n",
      "\u001b[1;32m<ipython-input-8-11ad5e366eaa>\u001b[0m in \u001b[0;36mvisualize\u001b[1;34m(lines, u_matrix, start_end, _vmin, _vmax, component_names)\u001b[0m\n\u001b[0;32m     13\u001b[0m         \u001b[0mx_coordinates\u001b[0m \u001b[1;33m=\u001b[0m \u001b[1;33m[\u001b[0m\u001b[0mpoint\u001b[0m\u001b[1;33m[\u001b[0m\u001b[1;36m0\u001b[0m\u001b[1;33m]\u001b[0m \u001b[1;32mfor\u001b[0m \u001b[0mpoint\u001b[0m \u001b[1;32min\u001b[0m \u001b[0mline\u001b[0m\u001b[1;33m]\u001b[0m\u001b[1;33m\u001b[0m\u001b[1;33m\u001b[0m\u001b[0m\n\u001b[0;32m     14\u001b[0m         \u001b[0my_coordinates\u001b[0m \u001b[1;33m=\u001b[0m \u001b[1;33m[\u001b[0m\u001b[0mpoint\u001b[0m\u001b[1;33m[\u001b[0m\u001b[1;36m1\u001b[0m\u001b[1;33m]\u001b[0m \u001b[1;32mfor\u001b[0m \u001b[0mpoint\u001b[0m \u001b[1;32min\u001b[0m \u001b[0mline\u001b[0m\u001b[1;33m]\u001b[0m\u001b[1;33m\u001b[0m\u001b[1;33m\u001b[0m\u001b[0m\n\u001b[1;32m---> 15\u001b[1;33m         \u001b[0mplt\u001b[0m\u001b[1;33m.\u001b[0m\u001b[0mplot\u001b[0m\u001b[1;33m(\u001b[0m\u001b[0my_coordinates\u001b[0m\u001b[1;33m,\u001b[0m \u001b[0mx_coordinates\u001b[0m\u001b[1;33m,\u001b[0m \u001b[1;34m'-o'\u001b[0m\u001b[1;33m,\u001b[0m \u001b[0mlinewidth\u001b[0m\u001b[1;33m=\u001b[0m\u001b[1;36m4\u001b[0m\u001b[1;33m,\u001b[0m \u001b[0mmarkersize\u001b[0m \u001b[1;33m=\u001b[0m \u001b[1;36m9\u001b[0m\u001b[1;33m,\u001b[0m\u001b[0mcolor\u001b[0m\u001b[1;33m=\u001b[0m\u001b[0mcolor\u001b[0m\u001b[1;33m,\u001b[0m \u001b[0mlabel\u001b[0m\u001b[1;33m=\u001b[0m\u001b[0mcomponent_names\u001b[0m\u001b[1;33m[\u001b[0m\u001b[0mi\u001b[0m\u001b[1;33m]\u001b[0m\u001b[1;33m)\u001b[0m\u001b[1;33m\u001b[0m\u001b[1;33m\u001b[0m\u001b[0m\n\u001b[0m\u001b[0;32m     16\u001b[0m \u001b[1;33m\u001b[0m\u001b[0m\n\u001b[0;32m     17\u001b[0m         \u001b[1;32mif\u001b[0m \u001b[0mstart_end\u001b[0m \u001b[1;33m==\u001b[0m \u001b[1;32mTrue\u001b[0m\u001b[1;33m:\u001b[0m\u001b[1;33m\u001b[0m\u001b[1;33m\u001b[0m\u001b[0m\n",
      "\u001b[1;31mIndexError\u001b[0m: list index out of range"
     ]
    },
    {
     "data": {
      "image/png": "[encoded data removed]",
      "text/plain": [
       "<Figure size 720x360 with 1 Axes>"
      ]
     },
     "metadata": {},
     "output_type": "display_data"
    }
   ],
   "source": [
    "chain_planes = discretize_planes(chain_weight, n = 8)\n",
    "u_matrix = umatrix(chain_weight['ydim'], chain_weight['xdim'], chain_weight['arr'])\n",
    "\n",
    "lines = get_component_lines(chain_planes, n = 8)\n",
    "visualize(lines, u_matrix)\n",
    "snapped_lines = snap_component_lines(lines, chain_planes, 8)\n",
    "visualize(snapped_lines, u_matrix)"
   ]
  },
  {
   "cell_type": "code",
   "execution_count": null,
   "metadata": {},
   "outputs": [],
   "source": [
    "cluster_planes = discretize_planes(clusters_weight, n = 7)\n",
    "u_matrix = umatrix(clusters_weight['ydim'], clusters_weight['xdim'], clusters_weight['arr'])\n",
    "\n",
    "lines = get_component_lines(cluster_planes, n = 7)\n",
    "visualize(lines, u_matrix)\n",
    "snapped_lines = snap_component_lines(lines, cluster_planes, step = 3)\n",
    "visualize(snapped_lines, u_matrix)\n",
    "\n",
    "\n",
    "selected_lines = get_component_lines(select_components(cluster_planes,n = 5), n = 7)\n",
    "snapped_selected_lines = snap_component_lines(selected_lines, cluster_planes, step = 3)\n",
    "visualize(selected_lines, u_matrix)\n",
    "\n",
    "aggregated_cluster_lines = aggregate(lines,140, print_Z=False)\n",
    "aggregated_cluster_lines = snap_component_lines(aggregated_cluster_lines, cluster_planes, step = 3)\n",
    "visualize(aggregated_cluster_lines, u_matrix, False)\n"
   ]
  },
  {
   "cell_type": "code",
   "execution_count": null,
   "metadata": {},
   "outputs": [],
   "source": []
  }
 ],
 "metadata": {
  "kernelspec": {
   "display_name": "Python 3",
   "language": "python",
   "name": "python3"
  },
  "language_info": {
   "codemirror_mode": {
    "name": "ipython",
    "version": 3
   },
   "file_extension": ".py",
   "mimetype": "text/x-python",
   "name": "python",
   "nbconvert_exporter": "python",
   "pygments_lexer": "ipython3",
   "version": "3.8.8"
  }
 },
 "nbformat": 4,
 "nbformat_minor": 1
}
