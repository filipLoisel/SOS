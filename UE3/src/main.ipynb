{
 "cells": [
  {
   "cell_type": "code",
   "execution_count": 168,
   "metadata": {},
   "outputs": [],
   "source": [
    "# Imports\n",
    "import matplotlib.pyplot as plt\n",
    "import numpy as np\n",
    "import seaborn as sns"
   ]
  },
  {
   "cell_type": "markdown",
   "metadata": {},
   "source": [
    "## MetroMap Implementation\n",
    "\n",
    "### 1. Read computed SOM"
   ]
  },
  {
   "cell_type": "code",
   "execution_count": 169,
   "metadata": {
    "pycharm": {
     "name": "#%%\n"
    }
   },
   "outputs": [],
   "source": [
    "from SOMToolBoxParser import SOMToolBoxParser\n",
    "\n",
    "input_vectors = SOMToolBoxParser(\"datasets/iris/iris.vec\").read_weight_file()\n",
    "weight_vectors = SOMToolBoxParser(\"datasets/iris/iris.wgt.gz\").read_weight_file()"
   ]
  },
  {
   "cell_type": "markdown",
   "metadata": {},
   "source": [
    "### 2.a Component Planes\n",
    "\n",
    "For each unit, take the weight vector of the corresponding attribute"
   ]
  },
  {
   "cell_type": "code",
   "execution_count": 170,
   "metadata": {},
   "outputs": [
    {
     "data": {
      "text/plain": "array([[[5.6640333 , 5.8479794 , 6.44057366, 6.64439671, 6.77028475,\n         6.83016839, 6.94925326, 7.15793705, 7.43282543, 7.67601165],\n        [5.61173184, 5.59119796, 6.15278572, 6.5179336 , 6.5768977 ,\n         6.69337911, 6.8186721 , 6.86303438, 7.07868722, 7.23859085],\n        [5.33559643, 5.35850576, 5.66956436, 6.25834615, 6.33762255,\n         6.40178735, 6.57068637, 6.64525322, 6.64796053, 6.73045274],\n        [5.20705456, 5.2224257 , 5.4084448 , 5.95179561, 6.07285648,\n         6.06895332, 6.28358889, 6.40190934, 6.42463702, 6.4122743 ],\n        [5.25571378, 5.27738005, 5.35775309, 5.81947062, 5.97876061,\n         6.03473374, 6.13300578, 6.21496016, 6.32054041, 6.32408513],\n        [5.10531878, 5.07512795, 5.24651464, 5.66976468, 5.73584791,\n         5.91637915, 6.09391484, 6.17108509, 6.23075994, 6.11780014],\n        [4.9508878 , 4.9556264 , 5.08181771, 5.5503461 , 5.77778692,\n         5.88909481, 5.95321232, 5.94487209, 5.94867891, 5.84060905],\n        [4.69703203, 4.86215711, 4.9101843 , 5.31194693, 5.67905085,\n         5.77733163, 5.65650669, 5.58031531, 5.69264805, 5.73841307],\n        [4.65213067, 4.83419912, 4.86566265, 5.07391755, 5.32860587,\n         5.51282899, 5.49316162, 5.40880277, 5.65614945, 5.88832794],\n        [4.46229778, 4.6975799 , 4.81279244, 5.01808182, 5.02323774,\n         5.27835969, 5.39643046, 5.44242574, 5.77538197, 6.10082901]],\n\n       [[3.93712216, 3.73208421, 3.17245368, 2.99508395, 3.03404624,\n         3.05587647, 3.03909948, 3.03924455, 2.98697214, 3.14815757],\n        [4.10825298, 3.90984185, 3.32974716, 2.99610739, 2.98340238,\n         3.03377758, 3.04094782, 2.87877587, 3.04157843, 3.25522331],\n        [3.93819705, 3.87009445, 3.58461027, 3.16126158, 3.16540286,\n         3.08392276, 3.04955847, 2.9869529 , 3.10406293, 3.20064317],\n        [3.74278845, 3.73021235, 3.58666276, 3.19715   , 3.17402309,\n         3.0722434 , 2.99178347, 2.97022288, 2.95794846, 3.24244516],\n        [3.55659946, 3.50116707, 3.40915737, 3.04120183, 2.96477507,\n         2.95020345, 2.89977563, 2.76852398, 2.84912824, 3.15244463],\n        [3.4812441 , 3.44192209, 3.29694857, 2.95194482, 2.90653188,\n         2.88739051, 2.81603703, 2.66825739, 2.65294718, 2.82442071],\n        [3.44755875, 3.37502718, 3.27974484, 2.93840013, 2.7532249 ,\n         2.72500226, 2.74938261, 2.75573052, 2.72837155, 2.76839475],\n        [3.3797319 , 3.23822026, 3.21245268, 2.88403851, 2.59527915,\n         2.47509425, 2.65556825, 2.85142136, 2.73027489, 2.64756073],\n        [3.15508081, 3.07980515, 3.07032843, 2.73096453, 2.42287881,\n         2.43245206, 2.52706543, 2.62351059, 2.56926723, 2.42765179],\n        [2.92650227, 3.03551176, 2.98079436, 2.51976293, 2.30630305,\n         2.39202703, 2.47549766, 2.50954965, 2.41425641, 2.30408463]],\n\n       [[1.62621815, 2.26469555, 3.97495271, 4.51842446, 4.69151149,\n         4.90215459, 5.39695695, 5.89119444, 6.21628668, 6.59842088],\n        [1.42350701, 1.7567834 , 3.42439115, 4.39408611, 4.63280076,\n         4.95408407, 5.29023091, 5.68437903, 5.96772624, 6.1532992 ],\n        [1.462993  , 1.6459775 , 2.54277376, 4.19603646, 4.60968457,\n         4.8967013 , 5.20228447, 5.49323145, 5.70903532, 5.73412007],\n        [1.53063071, 1.66736266, 2.17709231, 3.9462819 , 4.50659208,\n         4.75401842, 5.09628479, 5.46264617, 5.58198024, 5.67648505],\n        [1.46367653, 1.58762964, 2.17201376, 3.86790988, 4.29283666,\n         4.58246733, 4.898399  , 5.24752701, 5.32025908, 5.40737873],\n        [1.4295886 , 1.54694368, 2.12473106, 3.71336047, 4.14508187,\n         4.37259541, 4.7959906 , 4.99340322, 5.03733614, 5.16089019],\n        [1.37304865, 1.48884009, 1.82183608, 3.33314124, 4.00090941,\n         4.13269024, 4.54048083, 4.75067636, 4.94576498, 5.07280478],\n        [1.29454368, 1.400575  , 1.69108673, 2.80095533, 3.75051323,\n         3.96680504, 4.22203823, 4.49139943, 4.7535255 , 4.95977192],\n        [1.36210182, 1.45850955, 1.59486998, 2.57140059, 3.52521632,\n         3.7963538 , 4.04040415, 4.36773666, 4.60248711, 4.80797712],\n        [1.30731581, 1.42976182, 1.67385619, 2.87606066, 3.360367  ,\n         3.65806722, 3.95862129, 4.17463005, 4.45723114, 4.54315466]],\n\n       [[0.32749945, 0.56992135, 1.19303802, 1.36253147, 1.4436797 ,\n         1.56479174, 1.79007462, 1.79036038, 1.98880259, 2.12734311],\n        [0.28493213, 0.39321438, 1.00441124, 1.36731618, 1.49344237,\n         1.71906862, 2.03834358, 1.93111349, 2.08281567, 2.27138018],\n        [0.26772923, 0.3380682 , 0.68338667, 1.34854973, 1.55702704,\n         1.77383902, 2.03744954, 2.03152241, 2.17828065, 2.35655878],\n        [0.25494842, 0.31635942, 0.5409852 , 1.27969141, 1.54581639,\n         1.69979533, 1.81943332, 1.8557555 , 2.13123991, 2.3546873 ],\n        [0.23380531, 0.30040869, 0.55955665, 1.23581285, 1.39230667,\n         1.49797014, 1.70509487, 1.64588735, 1.95885387, 2.23265962],\n        [0.2333824 , 0.34676245, 0.57387234, 1.19424107, 1.28219435,\n         1.3813189 , 1.58111303, 1.64144001, 1.85031879, 2.00782441],\n        [0.25505336, 0.24244307, 0.43835999, 0.98569887, 1.16368276,\n         1.24392579, 1.35775638, 1.5807231 , 1.82170762, 1.98045528],\n        [0.23361591, 0.20422642, 0.26328131, 0.73596545, 1.07831797,\n         1.12057495, 1.28434617, 1.445738  , 1.69841321, 1.92131084],\n        [0.19444713, 0.1491164 , 0.21042012, 0.65785636, 1.03249379,\n         1.09360512, 1.26790376, 1.4039028 , 1.5563114 , 1.64343981],\n        [0.19758668, 0.21206186, 0.29001982, 0.85663335, 1.01149977,\n         1.12321843, 1.29582275, 1.36930545, 1.45066117, 1.44764007]]])"
     },
     "execution_count": 170,
     "metadata": {},
     "output_type": "execute_result"
    }
   ],
   "source": [
    "## TODO: figure out shape of the input weight matrix: attr,x,y or attr,y,x\n",
    "## TODO: last argument of .reshape\n",
    "\n",
    "component_planes = np.array([weight_vectors['arr'][:, i] for i in range(weight_vectors['vec_dim'])]).reshape(\n",
    "    weight_vectors['vec_dim'], weight_vectors['xdim'], weight_vectors['ydim'])\n",
    "component_planes"
   ]
  },
  {
   "cell_type": "markdown",
   "metadata": {},
   "source": [
    "### 2.b Discretization\n",
    "\n",
    "Input parameter `n`: number of bins"
   ]
  },
  {
   "cell_type": "code",
   "execution_count": 171,
   "metadata": {},
   "outputs": [
    {
     "data": {
      "text/plain": "<AxesSubplot:>"
     },
     "execution_count": 171,
     "metadata": {},
     "output_type": "execute_result"
    },
    {
     "data": {
      "text/plain": "<Figure size 432x288 with 2 Axes>",
      "image/png": "[encoded data removed]"
     },
     "metadata": {
      "needs_background": "light"
     },
     "output_type": "display_data"
    }
   ],
   "source": [
    "n = 6\n",
    "discretized_planes = []\n",
    "\n",
    "for component_plane in component_planes:\n",
    "    bins = np.linspace(component_plane.min(), component_plane.max(), n, False)\n",
    "    discretized_plane = np.digitize(component_plane, bins)\n",
    "    discretized_planes.append(discretized_plane)\n",
    "\n",
    "sns.heatmap(discretized_planes[0])"
   ]
  },
  {
   "cell_type": "markdown",
   "metadata": {},
   "source": [
    "### 3. Component Lines (Fi)\n",
    "\n",
    "Based on the algorith of NEU07_ijcnn, the following steps need to be performed:\n",
    "For each component, take a region (bins) and check which points fall within the interval of the region. Sum the values up, and divide the sum by the number of points in the region. The result is the gravity center of a component's region. Repeat these steps for all regions."
   ]
  },
  {
   "cell_type": "code",
   "execution_count": 172,
   "metadata": {},
   "outputs": [],
   "source": [
    "def calculate_region_center(points):\n",
    "    return sum(points) / len(points)\n",
    "\n",
    "\n",
    "def get_points_inside_region(region, component):\n",
    "    return np.argwhere(component == region)\n",
    "\n",
    "\n",
    "def get_region_centers(component):\n",
    "    region_centers = []\n",
    "\n",
    "    for region in range(1, n + 1):\n",
    "        included_points = get_points_inside_region(region, component)\n",
    "        region_center = calculate_region_center(included_points)\n",
    "        region_centers.append(region_center)\n",
    "\n",
    "    return region_centers\n",
    "\n",
    "\n",
    "def get_component_lines(binned_planes):\n",
    "    \"\"\" returns e.g., [[[1,2], [3,4], [3,5]], [...], [...]] -> component plane 0 has line with points: (1,2), (3,4) (3,5)\"\"\"\n",
    "    lines = []\n",
    "    for component in binned_planes:\n",
    "        region_centers = get_region_centers(component)\n",
    "        lines.append(region_centers)\n",
    "    return lines\n",
    "\n",
    "\n",
    "def get_min_max_lines(lines):\n",
    "    \"\"\" returns e.g., [[3.5, 8.9], [...], [...]] -> component plane 0 (line 0) has min at 3.5 and max at 8.9 \"\"\"\n",
    "    return [[np.min(points), np.max(points)] for points in lines]\n",
    "\n",
    "\n",
    "lines = get_component_lines(discretized_planes)\n",
    "lines_min_max = get_min_max_lines(lines)"
   ]
  },
  {
   "cell_type": "markdown",
   "metadata": {
    "pycharm": {
     "name": "#%% md\n"
    }
   },
   "source": [
    "## Metro Map Visualization\n",
    "\n",
    "### 4. Visualization\n",
    "\n",
    "Connect the centers with lines"
   ]
  },
  {
   "cell_type": "code",
   "execution_count": 173,
   "metadata": {},
   "outputs": [
    {
     "name": "stdout",
     "output_type": "stream",
     "text": [
      "[[array([7.63636364, 0.90909091]), array([6.        , 2.82608696]), array([5.03448276, 4.89655172]), array([3.22727273, 6.        ]), array([0.90909091, 6.18181818]), array([0.25, 8.25])], [array([8.35714286, 5.92857143]), array([5.68181818, 6.59090909]), array([3.07692308, 4.66666667]), array([4.78571429, 2.28571429]), array([2.5, 1. ]), array([1.2, 0.4])], [array([5.07692308, 0.88461538]), array([5.2, 2.4]), array([6. , 3.6]), array([5.16666667, 5.46666667]), array([3.17391304, 7.17391304]), array([0.66666667, 8.33333333])], [array([5.2173913 , 0.73913043]), array([4.75, 2.25]), array([5.84615385, 3.76923077]), array([4.84, 5.36]), array([3.83333333, 7.05555556]), array([2.        , 8.07692308])]]\n"
     ]
    },
    {
     "data": {
      "text/plain": "<Figure size 432x288 with 1 Axes>",
      "image/png": "[encoded data removed]"
     },
     "metadata": {
      "needs_background": "light"
     },
     "output_type": "display_data"
    }
   ],
   "source": [
    "print(lines)\n",
    "\n",
    "for line in lines:\n",
    "    x_coordinates = [point[0] for point in line]\n",
    "    y_coordinates = [point[1] for point in line]\n",
    "    plt.plot(x_coordinates, y_coordinates, '-o')\n",
    "\n",
    "plt.show()"
   ]
  },
  {
   "cell_type": "markdown",
   "metadata": {},
   "source": [
    "### 5. Aggregation (FL)\n",
    "\n",
    "distance-based\n",
    "\n",
    "Take pair wise lines,\n",
    "    calculate distance between two lines:\n",
    "        same_idx_dist <- sum of distances between pairs of centers of same indices\n",
    "        inv_idx_dist <- sum of distances between paris of centers of inverted indices\n",
    "        dist <- min(same_idx_dist, inv_idx_dist)\n",
    "\n",
    "use Ward's clustering (https://docs.scipy.org/doc/scipy/reference/generated/scipy.cluster.hierarchy.ward.html)\n",
    "\n"
   ]
  },
  {
   "cell_type": "code",
   "execution_count": null,
   "metadata": {},
   "outputs": [],
   "source": []
  },
  {
   "cell_type": "markdown",
   "metadata": {},
   "source": [
    "### 6. Selection\n",
    "\n",
    "See Algorithm 1 (NEU07_wsom paper)\n",
    "select only components with a small amount of regions per bin\n"
   ]
  },
  {
   "cell_type": "code",
   "execution_count": null,
   "metadata": {},
   "outputs": [],
   "source": []
  },
  {
   "cell_type": "markdown",
   "metadata": {},
   "source": [
    "\n",
    "### 7. Snapping\n",
    "\n",
    "See Algorithm 1 (https://github.com/yozoon/SOM-MetroMap/blob/main/implementation_report.pdf)\n",
    "\n",
    "See implementation of template method `_find_snapped_line`\n",
    "\n"
   ]
  },
  {
   "cell_type": "code",
   "execution_count": null,
   "metadata": {},
   "outputs": [],
   "source": []
  },
  {
   "cell_type": "markdown",
   "metadata": {},
   "source": [
    "## References"
   ]
  }
 ],
 "metadata": {
  "kernelspec": {
   "display_name": "Python 3",
   "language": "python",
   "name": "python3"
  },
  "language_info": {
   "codemirror_mode": {
    "name": "ipython",
    "version": 3
   },
   "file_extension": ".py",
   "mimetype": "text/x-python",
   "name": "python",
   "nbconvert_exporter": "python",
   "pygments_lexer": "ipython3",
   "version": "3.8.10"
  }
 },
 "nbformat": 4,
 "nbformat_minor": 1
}