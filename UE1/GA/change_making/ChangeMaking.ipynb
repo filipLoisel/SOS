{
 "cells": [
  {
   "cell_type": "code",
   "execution_count": 61,
   "id": "d73bddad",
   "metadata": {},
   "outputs": [],
   "source": [
    "#pip install geneticalgorithm\n",
    "import numpy as np\n",
    "from geneticalgorithm import geneticalgorithm as ga\n",
    "import time "
   ]
  },
  {
   "cell_type": "markdown",
   "id": "7e4a106c",
   "metadata": {},
   "source": [
    "Dynamic Problem for getting the optimal number of coins"
   ]
  },
  {
   "cell_type": "code",
   "execution_count": 26,
   "id": "ff9dc8be",
   "metadata": {},
   "outputs": [
    {
     "name": "stdout",
     "output_type": "stream",
     "text": [
      "8\n"
     ]
    }
   ],
   "source": [
    "def __coin_matrix__(coinList, changeNum):\n",
    "    matrix=[[0 for m in range(changeNum+1)]for m in range(len(coinList)+1)]\n",
    "    for i in range(changeNum+1):\n",
    "        matrix[0][i]=i\n",
    "    return matrix\n",
    "\n",
    "def makeChange(coins,change):\n",
    "    matrix=__coin_matrix__(coins,change)\n",
    "    for c in range(1,len(coins)+1):\n",
    "        for r in range(1,change+1):\n",
    "            if coins[c-1]==r:\n",
    "                matrix[c][r]=1\n",
    "            elif coins[c-1] > r:\n",
    "                matrix[c][r]=matrix[c-1][r]\n",
    "            else:\n",
    "                matrix[c][r] = min(matrix[c-1][r],1+matrix[c][r-coins[c-1]])\n",
    "\n",
    "    return matrix[-1][-1] #<-- optimal number of coins\n"
   ]
  },
  {
   "cell_type": "code",
   "execution_count": 67,
   "id": "04d3e22f",
   "metadata": {},
   "outputs": [
    {
     "name": "stdout",
     "output_type": "stream",
     "text": [
      " The best solution found:                                                                           \n",
      " [1. 2. 1.]\n",
      "\n",
      " Objective function:\n",
      " 0.0\n"
     ]
    },
    {
     "data": {
      "image/png": "[encoded data removed]",
      "text/plain": [
       "<Figure size 432x288 with 1 Axes>"
      ]
     },
     "metadata": {
      "needs_background": "light"
     },
     "output_type": "display_data"
    },
    {
     "name": "stdout",
     "output_type": "stream",
     "text": [
      "Optimal number of coins = 4\n",
      "Runtime: 0.5297732353210449s\n"
     ]
    }
   ],
   "source": [
    "def f_to_min(x):\n",
    "    #return ((abs(N-(x*d)).sum())+ x.sum()+1)\n",
    "    return abs(N-(x*d).sum())*(x.sum()*10*N+1)\n",
    "\n",
    "d=np.array([3,5,7])\n",
    "N = 20\n",
    "a = np.zeros(len(d))                \n",
    "b = [N//d[-1]]*len(d)\n",
    "varbound = np.array([a,b]).T\n",
    "\n",
    "algorithm_param = {'max_num_iteration': None,\\\n",
    "                   'population_size':100,\\\n",
    "                   'mutation_probability':0.01,\\\n",
    "                   'elit_ratio': 0.01,\\\n",
    "                   'crossover_probability': 0.5,\\\n",
    "                   'parents_portion': 0.3,\\\n",
    "                   'crossover_type':'uniform',\\\n",
    "                   'max_iteration_without_improv':None}\n",
    "\n",
    "\n",
    "  \n",
    "\n",
    "\n",
    "start = time.time()\n",
    "model=ga(function=f_to_min,dimension=len(d),variable_type='int',variable_boundaries=varbound)\n",
    "\n",
    "model.run()\n",
    "end = time.time()\n",
    "print(\"Optimal number of coins = {}\".format(makeChange(d,N)))\n",
    "print(\"Runtime: {}s\".format(end-start))\n"
   ]
  },
  {
   "cell_type": "code",
   "execution_count": 68,
   "id": "d68100ad",
   "metadata": {},
   "outputs": [
    {
     "name": "stdout",
     "output_type": "stream",
     "text": [
      " The best solution found:                                                                           \n",
      " [2. 7. 5. 3. 7. 0.]\n",
      "\n",
      " Objective function:\n",
      " 0.0\n"
     ]
    },
    {
     "data": {
      "image/png": "[encoded data removed]",
      "text/plain": [
       "<Figure size 432x288 with 1 Axes>"
      ]
     },
     "metadata": {
      "needs_background": "light"
     },
     "output_type": "display_data"
    },
    {
     "name": "stdout",
     "output_type": "stream",
     "text": [
      "Optimal number of coins = 10\n",
      "Runtime: 6.284868955612183s\n"
     ]
    }
   ],
   "source": [
    "\n",
    "d=np.array([3,5,7,11,13,22])\n",
    "N = 200\n",
    "a = np.zeros(len(d))                \n",
    "b = [N//d[-1]]*len(d)\n",
    "varbound = np.array([a,b]).T\n",
    "\n",
    "algorithm_param = {'max_num_iteration': None,\\\n",
    "                   'population_size':100,\\\n",
    "                   'mutation_probability':0.01,\\\n",
    "                   'elit_ratio': 0.01,\\\n",
    "                   'crossover_probability': 0.5,\\\n",
    "                   'parents_portion': 0.3,\\\n",
    "                   'crossover_type':'uniform',\\\n",
    "                   'max_iteration_without_improv':None}\n",
    "\n",
    "\n",
    "start = time.time()\n",
    "model=ga(function=f_to_min,dimension=len(d),variable_type='int',variable_boundaries=varbound)\n",
    "\n",
    "model.run()\n",
    "end = time.time()\n",
    "print(\"Optimal number of coins = {}\".format(makeChange(d,N)))\n",
    "print(\"Runtime: {}s\".format(end-start))\n"
   ]
  },
  {
   "cell_type": "code",
   "execution_count": 69,
   "id": "c5758cea",
   "metadata": {},
   "outputs": [
    {
     "name": "stdout",
     "output_type": "stream",
     "text": [
      " The best solution found:                                                                           \n",
      " [0. 6. 1. 7. 7. 6. 0. 7. 2. 3.]\n",
      "\n",
      " Objective function:\n",
      " 0.0\n"
     ]
    },
    {
     "data": {
      "image/png": "[encoded data removed]",
      "text/plain": [
       "<Figure size 432x288 with 1 Axes>"
      ]
     },
     "metadata": {
      "needs_background": "light"
     },
     "output_type": "display_data"
    },
    {
     "name": "stdout",
     "output_type": "stream",
     "text": [
      "Optimal number of coins = 10\n",
      "Runtime: 14.32010531425476s\n"
     ]
    }
   ],
   "source": [
    "\n",
    "d=np.array([3,5,7,11,13,22,41,89,100,280])\n",
    "N = 2000\n",
    "a = np.zeros(len(d))                \n",
    "b = [N//d[-1]]*len(d)\n",
    "varbound = np.array([a,b]).T\n",
    "\n",
    "algorithm_param = {'max_num_iteration': None,\\\n",
    "                   'population_size':100,\\\n",
    "                   'mutation_probability':0.01,\\\n",
    "                   'elit_ratio': 0.01,\\\n",
    "                   'crossover_probability': 0.5,\\\n",
    "                   'parents_portion': 0.3,\\\n",
    "                   'crossover_type':'uniform',\\\n",
    "                   'max_iteration_without_improv':None}\n",
    "\n",
    "\n",
    "start = time.time()\n",
    "model=ga(function=f_to_min,dimension=len(d),variable_type='int',variable_boundaries=varbound)\n",
    "\n",
    "model.run()\n",
    "end = time.time()\n",
    "print(\"Optimal number of coins = {}\".format(makeChange(d,N)))\n",
    "print(\"Runtime: {}s\".format(end-start))\n"
   ]
  }
 ],
 "metadata": {
  "kernelspec": {
   "display_name": "Python 3",
   "language": "python",
   "name": "python3"
  },
  "language_info": {
   "codemirror_mode": {
    "name": "ipython",
    "version": 3
   },
   "file_extension": ".py",
   "mimetype": "text/x-python",
   "name": "python",
   "nbconvert_exporter": "python",
   "pygments_lexer": "ipython3",
   "version": "3.8.8"
  }
 },
 "nbformat": 4,
 "nbformat_minor": 5
}
