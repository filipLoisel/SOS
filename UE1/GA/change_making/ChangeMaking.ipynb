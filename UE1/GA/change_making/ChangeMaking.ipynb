{
 "cells": [
  {
   "cell_type": "code",
   "execution_count": null,
   "id": "1cd7b30f",
   "metadata": {},
   "outputs": [],
   "source": [
    "import random\n",
    "import numpy as np\n",
    "import pandas as pd\n",
    "\n",
    "\n",
    "d=[1,2,3,4,5,6,7,8,'Fitness'] #denominations\n",
    "N=500  #total amount\n",
    "size=10 #population size\n",
    "\n",
    "#population generation\n",
    "population=[]\n",
    "for i in range(size):\n",
    "    c=[]\n",
    "    for j in range (len(d)):\n",
    "        c.append(random.randint(0,N)) #random nummer an coins von jeder deonmination\n",
    "    population.append(c) #population ist jetzt eine matrix jede row is eine lösung\n",
    "\n",
    "population=pd.DataFrame(population,columns=d)\n",
    "population=population.astype({'Fitness':float})  #FITNESS IST NOCH NICHT FITNESS\n",
    "\n",
    "print(population)"
   ]
  },
  {
   "cell_type": "code",
   "execution_count": null,
   "id": "46f12c28",
   "metadata": {},
   "outputs": [],
   "source": [
    "#erstes mal fitness bestimmen\n",
    "for i in range(size): #jede row\n",
    "    fitness=0\n",
    "    for j in range(len(d)-1):       #jede column außer fitness\n",
    "        fitness+=population[j+1][i]*d[j]  #zahl der münzen mal denomination für die ganze reihe\n",
    "                                            #TODO DAS d[j]  PASST NICHT MEHR MIT ANDEREN DENOMINATIONS\n",
    "\n",
    "    fitness=abs(fitness-N)     # fitness ist der unterschied zwischen betrag und echter lösung \n",
    "    population['Fitness'][i]=1/(1+float(fitness)) #fitness ist 1/(diff zu N) maybe *(1/number of coins)\n",
    "#print(population)\n",
    "pop=population.copy()\n",
    "pop['Fitness']=round(pop['Fitness'],4 )\n",
    "print(pop)"
   ]
  },
  {
   "cell_type": "code",
   "execution_count": null,
   "id": "06870f2f",
   "metadata": {},
   "outputs": [],
   "source": [
    "\n",
    "#genetic algorithm\n",
    "cnt=1\n",
    "while(True):\n",
    "    for i in range(size): # for each member of population\n",
    "        fitness=0\n",
    "        for j in range(len(d)-1):\n",
    "            fitness+=population[j+1][i]*d[j]\n",
    "\n",
    "        fitness=abs(fitness-N)\n",
    "        population['Fitness'][i]=1/(1+float(fitness))\n",
    "\n",
    "    population=population.sort_values(by=['Fitness'])\n",
    "  \n",
    "    parents=population[-6:].reset_index()\n",
    "    offspring=population[:3].reset_index()#the first 3 have to lowest fitness and will be mutated\n",
    "\n",
    "  #crossover\n",
    "    for i in range(3):\n",
    "        r=random.randint(0,len(d)-1)\n",
    "        for j in range(len(d)-1):\n",
    "            if(j<r):                                 #coins with HIGHER values have a higher chanche of mutating \n",
    "                offspring[j+1][i]=parents[j+1][i]\n",
    "            else:\n",
    "                offspring[j+1][i]=parents[j+1][6-i-1] #offspring kriegt anzahl der münzen von parent\n",
    "  \n",
    "  #mutation\n",
    "    mutation_p=0.75 #mutation probability\n",
    "    for i in range(3):\n",
    "        for j in range(len(d)-1):\n",
    "            p=random.random()\n",
    "            if(p>mutation_p):\n",
    "                offspring[j+1][i]=random.randint(0,N)\n",
    "    population=population[3:]\n",
    "    population=population.append(offspring, ignore_index=True) #die ersten 3 removen und mit dem offsprimg auswecheseln\n",
    "    population=population.drop(['index'],axis=1)\n",
    "\n",
    "    \"\"\"\n",
    "    pop=population.copy().sort_values(by=['Fitness']).reset_index()\n",
    "    pop['Fitness']=round(pop['Fitness'],4)\n",
    "    pop=pop.drop(['index'],axis=1)\n",
    "    \"\"\"\n",
    "\n",
    "\n",
    "    if(max(population['Fitness'])==1):\n",
    "        break\n",
    "\n",
    "    if(cnt%100==0):\n",
    "        print(max(population['Fitness']))\n",
    "    cnt+=1\n"
   ]
  },
  {
   "cell_type": "code",
   "execution_count": null,
   "id": "4b2dec27",
   "metadata": {},
   "outputs": [],
   "source": [
    "population=population.sort_values(by=['Fitness']).reset_index()\n",
    "print(population)\n",
    "print(\"\\n-------------\\n\")\n",
    "population=population[-1:]\n",
    "print(population)"
   ]
  },
  {
   "cell_type": "code",
   "execution_count": 1,
   "id": "d73bddad",
   "metadata": {},
   "outputs": [],
   "source": [
    "#pip install geneticalgorithm\n",
    "import numpy as np\n",
    "from geneticalgorithm import geneticalgorithm as ga"
   ]
  },
  {
   "cell_type": "code",
   "execution_count": 31,
   "id": "04d3e22f",
   "metadata": {},
   "outputs": [
    {
     "name": "stdout",
     "output_type": "stream",
     "text": [
      " The best solution found:                                                                           \n",
      " [100. 225.  23.  68. 150.  96. 106.]\n",
      "\n",
      " Objective function:\n",
      " 0.0\n"
     ]
    },
    {
     "data": {
      "image/png": "[encoded data removed]",
      "text/plain": [
       "<Figure size 432x288 with 1 Axes>"
      ]
     },
     "metadata": {
      "needs_background": "light"
     },
     "output_type": "display_data"
    }
   ],
   "source": [
    "d=np.array([3,5,7,11,13,22,34])\n",
    "N = 10000\n",
    "def f_to_min(x):\n",
    "    return abs(N-(x*d).sum())*(x.sum())\n",
    "\n",
    "a = np.zeros(len(d))                    #lower boundary\n",
    "#b = np.array((N/d)//1).astype('int')    #upper boundary\n",
    "b = [N//d[-1]]*len(d)\n",
    "varbound = np.array([a,b]).T\n",
    "\n",
    "algorithm_param = {'max_num_iteration': None,\\\n",
    "                   'population_size':100,\\\n",
    "                   'mutation_probability':0.4,\\\n",
    "                   'elit_ratio': 0.01,\\\n",
    "                   'crossover_probability': 0.5,\\\n",
    "                   'parents_portion': 0.3,\\\n",
    "                   'crossover_type':'uniform',\\\n",
    "                   'max_iteration_without_improv':None}\n",
    "\n",
    "\n",
    "\n",
    "model=ga(function=f_to_min,dimension=len(d),variable_type='int',variable_boundaries=varbound)\n",
    "model.run()"
   ]
  },
  {
   "cell_type": "code",
   "execution_count": 9,
   "id": "c4b70ec3",
   "metadata": {},
   "outputs": [
    {
     "data": {
      "text/plain": [
       "array([[ 0., 50.],\n",
       "       [ 0., 16.],\n",
       "       [ 0., 10.],\n",
       "       [ 0.,  7.],\n",
       "       [ 0.,  5.]])"
      ]
     },
     "execution_count": 9,
     "metadata": {},
     "output_type": "execute_result"
    }
   ],
   "source": [
    "\n",
    "\n"
   ]
  }
 ],
 "metadata": {
  "kernelspec": {
   "display_name": "Python 3",
   "language": "python",
   "name": "python3"
  },
  "language_info": {
   "codemirror_mode": {
    "name": "ipython",
    "version": 3
   },
   "file_extension": ".py",
   "mimetype": "text/x-python",
   "name": "python",
   "nbconvert_exporter": "python",
   "pygments_lexer": "ipython3",
   "version": "3.8.8"
  }
 },
 "nbformat": 4,
 "nbformat_minor": 5
}
